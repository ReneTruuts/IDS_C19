{
 "cells": [
  {
   "cell_type": "code",
   "execution_count": 1,
   "metadata": {},
   "outputs": [],
   "source": [
    "#Hello! This is the beginning of Erik's and Rene's project."
   ]
  },
  {
   "cell_type": "code",
   "execution_count": 2,
   "metadata": {},
   "outputs": [],
   "source": [
    "#Project desc, something about us\n"
   ]
  },
  {
   "cell_type": "code",
   "execution_count": 3,
   "metadata": {},
   "outputs": [],
   "source": [
    "#Dataset links"
   ]
  },
  {
   "cell_type": "code",
   "execution_count": 136,
   "metadata": {},
   "outputs": [],
   "source": [
    "import matplotlib.pyplot as plt \n",
    "import numpy as np\n",
    "import pandas as pd\n"
   ]
  },
  {
   "cell_type": "code",
   "execution_count": 5,
   "metadata": {},
   "outputs": [
    {
     "data": {
      "text/html": [
       "<div>\n",
       "<style scoped>\n",
       "    .dataframe tbody tr th:only-of-type {\n",
       "        vertical-align: middle;\n",
       "    }\n",
       "\n",
       "    .dataframe tbody tr th {\n",
       "        vertical-align: top;\n",
       "    }\n",
       "\n",
       "    .dataframe thead th {\n",
       "        text-align: right;\n",
       "    }\n",
       "</style>\n",
       "<table border=\"1\" class=\"dataframe\">\n",
       "  <thead>\n",
       "    <tr style=\"text-align: right;\">\n",
       "      <th></th>\n",
       "      <th>year_film</th>\n",
       "      <th>year_ceremony</th>\n",
       "      <th>ceremony</th>\n",
       "      <th>category</th>\n",
       "      <th>name</th>\n",
       "      <th>film</th>\n",
       "      <th>winner</th>\n",
       "    </tr>\n",
       "  </thead>\n",
       "  <tbody>\n",
       "    <tr>\n",
       "      <th>0</th>\n",
       "      <td>1927</td>\n",
       "      <td>1928</td>\n",
       "      <td>1</td>\n",
       "      <td>ACTOR</td>\n",
       "      <td>Richard Barthelmess</td>\n",
       "      <td>The Noose</td>\n",
       "      <td>False</td>\n",
       "    </tr>\n",
       "    <tr>\n",
       "      <th>1</th>\n",
       "      <td>1927</td>\n",
       "      <td>1928</td>\n",
       "      <td>1</td>\n",
       "      <td>ACTOR</td>\n",
       "      <td>Emil Jannings</td>\n",
       "      <td>The Last Command</td>\n",
       "      <td>True</td>\n",
       "    </tr>\n",
       "    <tr>\n",
       "      <th>2</th>\n",
       "      <td>1927</td>\n",
       "      <td>1928</td>\n",
       "      <td>1</td>\n",
       "      <td>ACTRESS</td>\n",
       "      <td>Louise Dresser</td>\n",
       "      <td>A Ship Comes In</td>\n",
       "      <td>False</td>\n",
       "    </tr>\n",
       "    <tr>\n",
       "      <th>3</th>\n",
       "      <td>1927</td>\n",
       "      <td>1928</td>\n",
       "      <td>1</td>\n",
       "      <td>ACTRESS</td>\n",
       "      <td>Janet Gaynor</td>\n",
       "      <td>7th Heaven</td>\n",
       "      <td>True</td>\n",
       "    </tr>\n",
       "    <tr>\n",
       "      <th>4</th>\n",
       "      <td>1927</td>\n",
       "      <td>1928</td>\n",
       "      <td>1</td>\n",
       "      <td>ACTRESS</td>\n",
       "      <td>Gloria Swanson</td>\n",
       "      <td>Sadie Thompson</td>\n",
       "      <td>False</td>\n",
       "    </tr>\n",
       "  </tbody>\n",
       "</table>\n",
       "</div>"
      ],
      "text/plain": [
       "   year_film  year_ceremony  ceremony category                 name  \\\n",
       "0       1927           1928         1    ACTOR  Richard Barthelmess   \n",
       "1       1927           1928         1    ACTOR        Emil Jannings   \n",
       "2       1927           1928         1  ACTRESS       Louise Dresser   \n",
       "3       1927           1928         1  ACTRESS         Janet Gaynor   \n",
       "4       1927           1928         1  ACTRESS       Gloria Swanson   \n",
       "\n",
       "               film  winner  \n",
       "0         The Noose   False  \n",
       "1  The Last Command    True  \n",
       "2   A Ship Comes In   False  \n",
       "3        7th Heaven    True  \n",
       "4    Sadie Thompson   False  "
      ]
     },
     "execution_count": 5,
     "metadata": {},
     "output_type": "execute_result"
    }
   ],
   "source": [
    "#Reading in the data\n",
    "oscars = pd.read_csv(\"the_oscar_award.csv\")\n",
    "globes_start = pd.read_csv(\"golden_globe_awards.csv\")\n",
    "#Let's see if the reading works!\n",
    "oscars.head()\n"
   ]
  },
  {
   "cell_type": "code",
   "execution_count": 6,
   "metadata": {},
   "outputs": [
    {
     "data": {
      "text/html": [
       "<div>\n",
       "<style scoped>\n",
       "    .dataframe tbody tr th:only-of-type {\n",
       "        vertical-align: middle;\n",
       "    }\n",
       "\n",
       "    .dataframe tbody tr th {\n",
       "        vertical-align: top;\n",
       "    }\n",
       "\n",
       "    .dataframe thead th {\n",
       "        text-align: right;\n",
       "    }\n",
       "</style>\n",
       "<table border=\"1\" class=\"dataframe\">\n",
       "  <thead>\n",
       "    <tr style=\"text-align: right;\">\n",
       "      <th></th>\n",
       "      <th>year_film</th>\n",
       "      <th>year_ceremony</th>\n",
       "      <th>ceremony</th>\n",
       "      <th>category</th>\n",
       "      <th>name</th>\n",
       "      <th>film</th>\n",
       "      <th>winner</th>\n",
       "    </tr>\n",
       "  </thead>\n",
       "  <tbody>\n",
       "    <tr>\n",
       "      <th>1456</th>\n",
       "      <td>1943</td>\n",
       "      <td>1944</td>\n",
       "      <td>16</td>\n",
       "      <td>ACTOR</td>\n",
       "      <td>Humphrey Bogart</td>\n",
       "      <td>Casablanca</td>\n",
       "      <td>False</td>\n",
       "    </tr>\n",
       "    <tr>\n",
       "      <th>1457</th>\n",
       "      <td>1943</td>\n",
       "      <td>1944</td>\n",
       "      <td>16</td>\n",
       "      <td>ACTOR</td>\n",
       "      <td>Gary Cooper</td>\n",
       "      <td>For Whom the Bell Tolls</td>\n",
       "      <td>False</td>\n",
       "    </tr>\n",
       "    <tr>\n",
       "      <th>1458</th>\n",
       "      <td>1943</td>\n",
       "      <td>1944</td>\n",
       "      <td>16</td>\n",
       "      <td>ACTOR</td>\n",
       "      <td>Paul Lukas</td>\n",
       "      <td>Watch on the Rhine</td>\n",
       "      <td>True</td>\n",
       "    </tr>\n",
       "    <tr>\n",
       "      <th>1459</th>\n",
       "      <td>1943</td>\n",
       "      <td>1944</td>\n",
       "      <td>16</td>\n",
       "      <td>ACTOR</td>\n",
       "      <td>Walter Pidgeon</td>\n",
       "      <td>Madame Curie</td>\n",
       "      <td>False</td>\n",
       "    </tr>\n",
       "    <tr>\n",
       "      <th>1460</th>\n",
       "      <td>1943</td>\n",
       "      <td>1944</td>\n",
       "      <td>16</td>\n",
       "      <td>ACTOR</td>\n",
       "      <td>Mickey Rooney</td>\n",
       "      <td>The Human Comedy</td>\n",
       "      <td>False</td>\n",
       "    </tr>\n",
       "  </tbody>\n",
       "</table>\n",
       "</div>"
      ],
      "text/plain": [
       "      year_film  year_ceremony  ceremony category             name  \\\n",
       "1456       1943           1944        16    ACTOR  Humphrey Bogart   \n",
       "1457       1943           1944        16    ACTOR      Gary Cooper   \n",
       "1458       1943           1944        16    ACTOR       Paul Lukas   \n",
       "1459       1943           1944        16    ACTOR   Walter Pidgeon   \n",
       "1460       1943           1944        16    ACTOR    Mickey Rooney   \n",
       "\n",
       "                         film  winner  \n",
       "1456               Casablanca   False  \n",
       "1457  For Whom the Bell Tolls   False  \n",
       "1458       Watch on the Rhine    True  \n",
       "1459             Madame Curie   False  \n",
       "1460         The Human Comedy   False  "
      ]
     },
     "execution_count": 6,
     "metadata": {},
     "output_type": "execute_result"
    }
   ],
   "source": [
    "#As the Oscar awards started before Golden Globes, we have to clear out unneccessary data(years before 1944).\n",
    "oscars_removed = oscars[oscars['year_ceremony'] < 1944].index\n",
    "oscars_cleared = oscars.drop(oscars_removed , inplace=True)\n",
    "#Let's check if I removed the unneccessary data!\n",
    "oscars.head()"
   ]
  },
  {
   "cell_type": "code",
   "execution_count": 7,
   "metadata": {
    "scrolled": false
   },
   "outputs": [
    {
     "name": "stdout",
     "output_type": "stream",
     "text": [
      "['ACTRESS IN A SUPPORTING ROLE' 'ACTOR IN A SUPPORTING ROLE' 'DIRECTOR'\n",
      " 'PICTURE' 'ACTRESS' 'ACTOR']\n"
     ]
    },
    {
     "name": "stderr",
     "output_type": "stream",
     "text": [
      "C:\\Users\\Erik\\anaconda3\\lib\\site-packages\\pandas\\core\\frame.py:3990: SettingWithCopyWarning: \n",
      "A value is trying to be set on a copy of a slice from a DataFrame\n",
      "\n",
      "See the caveats in the documentation: https://pandas.pydata.org/pandas-docs/stable/user_guide/indexing.html#returning-a-view-versus-a-copy\n",
      "  return super().drop(\n",
      "<ipython-input-7-7995177ec1a6>:16: SettingWithCopyWarning: \n",
      "A value is trying to be set on a copy of a slice from a DataFrame.\n",
      "Try using .loc[row_indexer,col_indexer] = value instead\n",
      "\n",
      "See the caveats in the documentation: https://pandas.pydata.org/pandas-docs/stable/user_guide/indexing.html#returning-a-view-versus-a-copy\n",
      "  globes['category'] = globes['category'].replace(['Picture - Musical','Picture - Comedy','Best Motion Picture - Drama','Best Motion Picture - Musical or Comedy','Picture'],'PICTURE')\n",
      "<ipython-input-7-7995177ec1a6>:20: SettingWithCopyWarning: \n",
      "A value is trying to be set on a copy of a slice from a DataFrame.\n",
      "Try using .loc[row_indexer,col_indexer] = value instead\n",
      "\n",
      "See the caveats in the documentation: https://pandas.pydata.org/pandas-docs/stable/user_guide/indexing.html#returning-a-view-versus-a-copy\n",
      "  globes['category'] = globes['category'].replace(['Best Performance by an Actress in a Motion Picture - Drama','Actress In A Leading Role - Musical Or Comedy','Best Performance by an Actress in a Motion Picture - Musical or Comedy','Actress In A Leading Role'],'ACTRESS')\n",
      "<ipython-input-7-7995177ec1a6>:21: SettingWithCopyWarning: \n",
      "A value is trying to be set on a copy of a slice from a DataFrame.\n",
      "Try using .loc[row_indexer,col_indexer] = value instead\n",
      "\n",
      "See the caveats in the documentation: https://pandas.pydata.org/pandas-docs/stable/user_guide/indexing.html#returning-a-view-versus-a-copy\n",
      "  globes['category'] = globes['category'].replace(['Best Performance by an Actor in a Motion Picture - Drama','Best Performance by an Actor in a Motion Picture - Musical or Comedy','Actor In A Leading Role'],'ACTOR')\n",
      "<ipython-input-7-7995177ec1a6>:22: SettingWithCopyWarning: \n",
      "A value is trying to be set on a copy of a slice from a DataFrame.\n",
      "Try using .loc[row_indexer,col_indexer] = value instead\n",
      "\n",
      "See the caveats in the documentation: https://pandas.pydata.org/pandas-docs/stable/user_guide/indexing.html#returning-a-view-versus-a-copy\n",
      "  globes['category'] = globes['category'].replace(['Best Performance by an Actor in a Supporting Role in any Motion Picture'],'ACTOR IN A SUPPORTING ROLE')\n",
      "<ipython-input-7-7995177ec1a6>:23: SettingWithCopyWarning: \n",
      "A value is trying to be set on a copy of a slice from a DataFrame.\n",
      "Try using .loc[row_indexer,col_indexer] = value instead\n",
      "\n",
      "See the caveats in the documentation: https://pandas.pydata.org/pandas-docs/stable/user_guide/indexing.html#returning-a-view-versus-a-copy\n",
      "  globes['category'] = globes['category'].replace(['Best Performance by an Actress in a Supporting Role in any Motion Picture'],'ACTRESS IN A SUPPORTING ROLE')\n",
      "<ipython-input-7-7995177ec1a6>:24: SettingWithCopyWarning: \n",
      "A value is trying to be set on a copy of a slice from a DataFrame.\n",
      "Try using .loc[row_indexer,col_indexer] = value instead\n",
      "\n",
      "See the caveats in the documentation: https://pandas.pydata.org/pandas-docs/stable/user_guide/indexing.html#returning-a-view-versus-a-copy\n",
      "  globes['category'] = globes['category'].replace(['Best Director - Motion Picture'],'DIRECTOR')\n"
     ]
    }
   ],
   "source": [
    "#We want to know all the different categories that are awarded at both ceremonies, then remove the awards that aren't at both\n",
    "#awards and then change award names, so we could easily add the two datasets together.\n",
    "#It seems easier for us to take Oscar's category names, because they are shorter and clearer.\n",
    "#As Oscar's dont give out awards to TV shows and Golden Globes do, we can safely remove all the rows containing\n",
    "#the word \"Television\".\n",
    "#We only want to leave in categories that have been at both awards from the start, which leaves us with:\n",
    "#Actor, actress, supporting actor, supporting actress,Director, Picture.\n",
    "unneccessary_categories = ['Television','Henrietta','Samuel','Hollywood','Juvenile','International','Cinematography','New','Foreign','Animated','Score','Screenplay','Song','Color','Documentary']\n",
    "globes = globes_start[~globes_start.category.str.contains('|'.join(unneccessary_categories))]\n",
    "#We can also filter out all the rows where column \"winner\" value is false, because we just want to predict winners.\n",
    "globes.drop(globes[globes['win'] == False].index, inplace=True)\n",
    "oscars.drop(oscars[oscars['winner'] == False].index, inplace=True)\n",
    "#We only want to leave in categories that have been at both awards from the start, which leaves us with:\n",
    "#Actor, actress, supporting actor, supporting actress,Director, Picture (Names on datasets may vary, but we will change them\n",
    "#soon!)\n",
    "globes['category'] = globes['category'].replace(['Picture - Musical','Picture - Comedy','Best Motion Picture - Drama','Best Motion Picture - Musical or Comedy','Picture'],'PICTURE')\n",
    "#We will alter the globes dataset to be similar to the Oscars dataset. For example, we will change \"Picture-Musical\" and\n",
    "#\"Picture-Comedy\" to just picture, because Oscars just give out one award for best picture. We will follow to do a similar\n",
    "#thing with actor awards.\n",
    "globes['category'] = globes['category'].replace(['Best Performance by an Actress in a Motion Picture - Drama','Actress In A Leading Role - Musical Or Comedy','Best Performance by an Actress in a Motion Picture - Musical or Comedy','Actress In A Leading Role'],'ACTRESS')\n",
    "globes['category'] = globes['category'].replace(['Best Performance by an Actor in a Motion Picture - Drama','Best Performance by an Actor in a Motion Picture - Musical or Comedy','Actor In A Leading Role'],'ACTOR')\n",
    "globes['category'] = globes['category'].replace(['Best Performance by an Actor in a Supporting Role in any Motion Picture'],'ACTOR IN A SUPPORTING ROLE')\n",
    "globes['category'] = globes['category'].replace(['Best Performance by an Actress in a Supporting Role in any Motion Picture'],'ACTRESS IN A SUPPORTING ROLE')\n",
    "globes['category'] = globes['category'].replace(['Best Director - Motion Picture'],'DIRECTOR')\n",
    "\n",
    "print(globes[\"category\"].unique())\n",
    "\n"
   ]
  },
  {
   "cell_type": "code",
   "execution_count": 8,
   "metadata": {},
   "outputs": [
    {
     "name": "stdout",
     "output_type": "stream",
     "text": [
      "['ACTOR' 'ACTOR IN A SUPPORTING ROLE' 'ACTRESS'\n",
      " 'ACTRESS IN A SUPPORTING ROLE' 'DIRECTOR' 'PICTURE']\n"
     ]
    }
   ],
   "source": [
    "#We will now repeat the same thing for the Oscars' file as well, removing unneccessary rows.\n",
    "\n",
    "oscars_unneccessary = ['CINEMATOGRAPHY','DOCUMENTARY','MUSIC','COSTUME','WRITING','VISUAL','SHORT','EDIT','SOUND','SPECIAL','MAKEUP','ANIMATED','JEAN','ART','HONORARY','PRODUCTION','IRVING','FOREIGN','INTERNATIONAL','OUTSTANDING']\n",
    "oscars = oscars[~oscars.category.str.contains('|'.join(oscars_unneccessary))]\n",
    "oscars['category'] = oscars['category'].replace(['DIRECTING'],'DIRECTOR')\n",
    "oscars['category'] = oscars['category'].replace(['BEST PICTURE'],'PICTURE')\n",
    "oscars['category'] = oscars['category'].replace(['ACTRESS IN A LEADING ROLE'],'ACTRESS')\n",
    "oscars['category'] = oscars['category'].replace(['ACTOR IN A LEADING ROLE'],'ACTOR')\n",
    "oscars['category'] = oscars['category'].replace(['ACTOR IN A LEADING ROLE'],'ACTOR')\n",
    "oscars['category'] = oscars['category'].replace(['BEST MOTION PICTURE'],'PICTURE')\n",
    "print(oscars[\"category\"].unique())"
   ]
  },
  {
   "cell_type": "code",
   "execution_count": 162,
   "metadata": {
    "scrolled": false
   },
   "outputs": [
    {
     "name": "stdout",
     "output_type": "stream",
     "text": [
      "148\n",
      "46\n",
      "102\n"
     ]
    },
    {
     "data": {
      "text/plain": [
       "Text(0.5, 0, 'Won a Golden Globe and an Oscar          Only won a Golden Globe')"
      ]
     },
     "execution_count": 162,
     "metadata": {},
     "output_type": "execute_result"
    },
    {
     "data": {
      "image/png": "[encoded data removed]",
      "text/plain": [
       "<Figure size 432x288 with 1 Axes>"
      ]
     },
     "metadata": {
      "needs_background": "light"
     },
     "output_type": "display_data"
    }
   ],
   "source": [
    "#We will compare the award ceremony results by category.\n",
    "#Globes vs Oscars comparison: Actor\n",
    "\n",
    "#We create a new set.\n",
    "globesActorSet = {'Film year Globes': globes['year_film'], 'Award year Globes': globes['year_award'],\n",
    "                  'Category': globes['category'], 'Name Globes': globes['nominee'], 'Film Globes': globes['film'],\n",
    "                  'win Globes': globes['win']}\n",
    "#Based on the newly created set, we create a new dataframe.\n",
    "globesActor = pd.DataFrame(globesActorSet)\n",
    "#In the new dataframe, we only use the rows, where the category is 'ACTOR'\n",
    "globesActor = globesActor[globesActor['Category']==\"ACTOR\"]\n",
    "\n",
    "#Here we do the same thing with the Oscars results\n",
    "\n",
    "#We create a new set.\n",
    "oscarsActorSet = {'Film year Oscars': oscars['year_film'], 'Award year Oscars': oscars['year_ceremony'],\n",
    "                  'Category': oscars['category'], 'Name Oscars': oscars['name'], 'Film Oscars': oscars['film'],\n",
    "                  'win Oscars': oscars['winner']}\n",
    "#Based on the newly created set, we create a new dataframe.\n",
    "oscarsActor = pd.DataFrame(oscarsActorSet)\n",
    "#In the new dataframe, we only use the rows, where the category is 'ACTOR'\n",
    "oscarsActor = oscarsActor[oscarsActor['Category']==\"ACTOR\"]\n",
    "#Created copies of the datasets to not mess up any already made work, but now I'm too scared to change anything.\n",
    "testdf1 = oscarsActor.copy()\n",
    "testdf = globesActor.copy()\n",
    "#testdf2 is a dataframe in which we merged the dataframe copies we made before\n",
    "testdf2=testdf.merge(testdf1,left_on=\"Film year Globes\",right_on=\"Film year Oscars\")\n",
    "#Here we made a new column 'Won both', in which it says 'Yes' if the actor has won both awards for this particular movie, or 'NaN' if he hasn't.\n",
    "testdf.loc[(testdf2['Award year Globes'].values == testdf2['Award year Oscars'].values) & (testdf2['Name Globes'].values == testdf2['Name Oscars'].values) & (testdf2['Film Globes'].values == testdf2['Film Oscars'].values), 'Won both'] = 'Yes'\n",
    "\n",
    "testdf.loc[testdf['Won both'] == 'Yes']\n",
    "\n",
    "numberOfYesActor = testdf[testdf['Won both']=='Yes'].count()['Won both']\n",
    "numberOfNoActor = (testdf.count()['Film year Globes']) - numberOfYesActor\n",
    "print(testdf.count()['Film year Globes'])\n",
    "print(numberOfYesActor)\n",
    "print(numberOfNoActor)\n",
    "data = [{'Yes': testdf[testdf['Won both']=='Yes'].count()['Won both'],'No': (testdf.count()['Film year Globes']) - numberOfYesActor}]\n",
    "df = pd.DataFrame(data)\n",
    "df\n",
    "df.plot.bar().set_xlabel(\"Won a Golden Globe and an Oscar          Only won a Golden Globe\")"
   ]
  },
  {
   "cell_type": "code",
   "execution_count": 163,
   "metadata": {},
   "outputs": [
    {
     "name": "stdout",
     "output_type": "stream",
     "text": [
      "77\n",
      "27\n",
      "50\n"
     ]
    },
    {
     "data": {
      "text/plain": [
       "Text(0.5, 0, 'Won a Golden Globe and an Oscar          Only won a Golden Globe')"
      ]
     },
     "execution_count": 163,
     "metadata": {},
     "output_type": "execute_result"
    },
    {
     "data": {
      "image/png": "[encoded data removed]",
      "text/plain": [
       "<Figure size 432x288 with 1 Axes>"
      ]
     },
     "metadata": {
      "needs_background": "light"
     },
     "output_type": "display_data"
    }
   ],
   "source": [
    "#We will compare the award ceremony results by category.\n",
    "#Globes vs Oscars comparison: Actor in a supporting role\n",
    "\n",
    "#We create a new set.\n",
    "globesSupportingActorSet = {'Film year Globes': globes['year_film'], 'Award year Globes': globes['year_award'],\n",
    "                  'Category': globes['category'], 'Name Globes': globes['nominee'], 'Film Globes': globes['film'],\n",
    "                  'win Globes': globes['win']}\n",
    "#Based on the newly created set, we create a new dataframe.\n",
    "globesSupportingActor = pd.DataFrame(globesSupportingActorSet)\n",
    "#In the new dataframe, we only use the rows, where the category is 'ACTOR IN A SUPPORTING ROLE'\n",
    "globesSupportingActor = globesSupportingActor[globesSupportingActor['Category']==\"ACTOR IN A SUPPORTING ROLE\"]\n",
    "\n",
    "#Here we do the same thing with the Oscars results\n",
    "\n",
    "#We create a new set.\n",
    "oscarsSupportingActorSet = {'Film year Oscars': oscars['year_film'], 'Award year Oscars': oscars['year_ceremony'],\n",
    "                  'Category': oscars['category'], 'Name Oscars': oscars['name'], 'Film Oscars': oscars['film'],\n",
    "                  'win Oscars': oscars['winner']}\n",
    "#Based on the newly created set, we create a new dataframe.\n",
    "oscarsSupportingActor = pd.DataFrame(oscarsSupportingActorSet)\n",
    "#In the new dataframe, we only use the rows, where the category is 'ACTOR IN A SUPPORTING ROLE'\n",
    "oscarsSupportingActor = oscarsSupportingActor[oscarsSupportingActor['Category']==\"ACTOR IN A SUPPORTING ROLE\"]\n",
    "#Created copies of the datasets to not mess up any already made work, but now I'm too scared to change anything.\n",
    "testdf1 = oscarsSupportingActor.copy()\n",
    "testdf = globesSupportingActor.copy()\n",
    "#testdf2 is a dataframe in which we merged the dataframe copies we made before\n",
    "testdf2=testdf.merge(testdf1,left_on=\"Film year Globes\",right_on=\"Film year Oscars\")\n",
    "#Here we made a new column 'Won both', in which it says 'Yes' if the actor has won both awards for this particular movie, or 'NaN' if he hasn't\n",
    "testdf.loc[(testdf2['Award year Globes'].values == testdf2['Award year Oscars'].values) & (testdf2['Name Globes'].values == testdf2['Name Oscars'].values) & (testdf2['Film Globes'].values == testdf2['Film Oscars'].values), 'Won both'] = 'Yes'\n",
    "\n",
    "testdf.loc[testdf['Won both'] == 'Yes']\n",
    "numberOfYesActor = testdf[testdf['Won both']=='Yes'].count()['Won both']\n",
    "numberOfNoActor = (testdf.count()['Film year Globes']) - numberOfYesActor\n",
    "print(testdf.count()['Film year Globes'])\n",
    "print(numberOfYesActor)\n",
    "print(numberOfNoActor)\n",
    "data = [{'Yes': testdf[testdf['Won both']=='Yes'].count()['Won both'],'No': (testdf.count()['Film year Globes']) - numberOfYesActor}]\n",
    "df = pd.DataFrame(data)\n",
    "df\n",
    "df.plot.bar().set_xlabel(\"Won a Golden Globe and an Oscar          Only won a Golden Globe\")"
   ]
  },
  {
   "cell_type": "code",
   "execution_count": 165,
   "metadata": {
    "scrolled": false
   },
   "outputs": [
    {
     "name": "stdout",
     "output_type": "stream",
     "text": [
      "151\n",
      "39\n",
      "112\n"
     ]
    },
    {
     "data": {
      "text/plain": [
       "Text(0.5, 0, 'Won a Golden Globe and an Oscar          Only won a Golden Globe')"
      ]
     },
     "execution_count": 165,
     "metadata": {},
     "output_type": "execute_result"
    },
    {
     "data": {
      "image/png": "[encoded data removed]",
      "text/plain": [
       "<Figure size 432x288 with 1 Axes>"
      ]
     },
     "metadata": {
      "needs_background": "light"
     },
     "output_type": "display_data"
    }
   ],
   "source": [
    "#We will compare the award ceremony results by category.\n",
    "#Globes vs Oscars comparison: Actress\n",
    "\n",
    "#We create a new set.\n",
    "globesActressSet = {'Film year Globes': globes['year_film'], 'Award year Globes': globes['year_award'],\n",
    "                  'Category': globes['category'], 'Name Globes': globes['nominee'], 'Film Globes': globes['film'],\n",
    "                  'win Globes': globes['win']}\n",
    "#Based on the newly created set, we create a new dataframe.\n",
    "globesActress = pd.DataFrame(globesActressSet)\n",
    "#In the new dataframe, we only use the rows, where the category is 'ACTRESS'\n",
    "globesActress = globesActress[globesActress['Category']==\"ACTRESS\"]\n",
    "\n",
    "#Here we do the same thing with the Oscars results\n",
    "\n",
    "#We create a new set.\n",
    "oscarsActressSet = {'Film year Oscars': oscars['year_film'], 'Award year Oscars': oscars['year_ceremony'],\n",
    "                  'Category': oscars['category'], 'Name Oscars': oscars['name'], 'Film Oscars': oscars['film'],\n",
    "                  'win Oscars': oscars['winner']}\n",
    "#Based on the newly created set, we create a new dataframe.\n",
    "oscarsActress = pd.DataFrame(oscarsActressSet)\n",
    "#In the new dataframe, we only use the rows, where the category is 'ACTRESS'\n",
    "oscarsActress = oscarsActress[oscarsActress['Category']==\"ACTRESS\"]\n",
    "#Created copies of the datasets to not mess up any already made work, but now I'm too scared to change anything.\n",
    "testdf1 = oscarsActress.copy()#78 rows\n",
    "testdf = globesActress.copy()#151 rows\n",
    "#testdf2 is a dataframe in which we merged the dataframe copies we made before\n",
    "testdf2=testdf.merge(testdf1,left_on=\"Film year Globes\",right_on=\"Film year Oscars\")#153 rows\n",
    "\n",
    "\n",
    "\n",
    "#Here we dropped some rows, because they were duplicates in the original file\n",
    "testdf2 = testdf2.drop(testdf2.index[44])\n",
    "testdf2 = testdf2.drop(testdf2.index[46])\n",
    "#Here we made a new column 'Won both', in which it says 'Yes' if the actor has won both awards for this particular movie, or 'NaN' if she hasn't\n",
    "testdf.loc[(testdf2['Award year Globes'].values == testdf2['Award year Oscars'].values) & (testdf2['Name Globes'].values == testdf2['Name Oscars'].values) & (testdf2['Film Globes'].values == testdf2['Film Oscars'].values), 'Won both'] = 'Yes'\n",
    "testdf.loc[testdf['Won both'] == 'Yes']\n",
    "numberOfYesActor = testdf[testdf['Won both']=='Yes'].count()['Won both']\n",
    "numberOfNoActor = (testdf.count()['Film year Globes']) - numberOfYesActor\n",
    "print(testdf.count()['Film year Globes'])\n",
    "print(numberOfYesActor)\n",
    "print(numberOfNoActor)\n",
    "data = [{'Yes': testdf[testdf['Won both']=='Yes'].count()['Won both'],'No': (testdf.count()['Film year Globes']) - numberOfYesActor}]\n",
    "df = pd.DataFrame(data)\n",
    "df\n",
    "df.plot.bar().set_xlabel(\"Won a Golden Globe and an Oscar          Only won a Golden Globe\")"
   ]
  },
  {
   "cell_type": "code",
   "execution_count": 166,
   "metadata": {
    "scrolled": false
   },
   "outputs": [
    {
     "name": "stdout",
     "output_type": "stream",
     "text": [
      "79\n",
      "25\n",
      "54\n"
     ]
    },
    {
     "data": {
      "text/plain": [
       "Text(0.5, 0, 'Won a Golden Globe and an Oscar          Only won a Golden Globe')"
      ]
     },
     "execution_count": 166,
     "metadata": {},
     "output_type": "execute_result"
    },
    {
     "data": {
      "image/png": "[encoded data removed]",
      "text/plain": [
       "<Figure size 432x288 with 1 Axes>"
      ]
     },
     "metadata": {
      "needs_background": "light"
     },
     "output_type": "display_data"
    }
   ],
   "source": [
    "#We will compare the award ceremony results by category.\n",
    "#Globes vs Oscars comparison: Actress in a supporting role\n",
    "\n",
    "#We create a new set.\n",
    "globesSupportingActressSet = {'Film year Globes': globes['year_film'], 'Award year Globes': globes['year_award'],\n",
    "                  'Category': globes['category'], 'Name Globes': globes['nominee'], 'Film Globes': globes['film'],\n",
    "                  'win Globes': globes['win']}\n",
    "#Based on the newly created set, we create a new dataframe.\n",
    "globesSupportingActress = pd.DataFrame(globesSupportingActressSet)\n",
    "#In the new dataframe, we only use the rows, where the category is 'ACTRESS IN A SUPPORTING ROLE'\n",
    "globesSupportingActress = globesSupportingActress[globesSupportingActress['Category']==\"ACTRESS IN A SUPPORTING ROLE\"]\n",
    "\n",
    "#Here we do the same thing with the Oscars results\n",
    "\n",
    "#We create a new set.\n",
    "oscarsSupportingActressSet = {'Film year Oscars': oscars['year_film'], 'Award year Oscars': oscars['year_ceremony'],\n",
    "                  'Category': oscars['category'], 'Name Oscars': oscars['name'], 'Film Oscars': oscars['film'],\n",
    "                  'win Oscars': oscars['winner']}\n",
    "#Based on the newly created set, we create a new dataframe.\n",
    "oscarsSupportingActress = pd.DataFrame(oscarsSupportingActressSet)\n",
    "#In the new dataframe, we only use the rows, where the category is 'ACTRESS IN A SUPPORTING ROLE'\n",
    "oscarsSupportingActress = oscarsSupportingActress[oscarsSupportingActress['Category']==\"ACTRESS IN A SUPPORTING ROLE\"]\n",
    "#Created copies of the datasets to not mess up any already made work, but now I'm too scared to change anything.\n",
    "testdf1 = oscarsSupportingActress.copy()\n",
    "testdf = globesSupportingActress.copy()\n",
    "#testdf2 is a dataframe in which we merged the dataframe copies we made before\n",
    "testdf2=testdf.merge(testdf1,left_on=\"Film year Globes\",right_on=\"Film year Oscars\")\n",
    "#Here we made a new column 'Won both', in which it says 'Yes' if the actor has won both awards for this particular movie, or 'NaN' if she hasn't\n",
    "testdf.loc[(testdf2['Award year Globes'].values == testdf2['Award year Oscars'].values) & (testdf2['Name Globes'].values == testdf2['Name Oscars'].values) & (testdf2['Film Globes'].values == testdf2['Film Oscars'].values), 'Won both'] = 'Yes'\n",
    "\n",
    "\n",
    "testdf.loc[testdf['Won both'] == 'Yes']\n",
    "numberOfYesActor = testdf[testdf['Won both']=='Yes'].count()['Won both']\n",
    "numberOfNoActor = (testdf.count()['Film year Globes']) - numberOfYesActor\n",
    "print(testdf.count()['Film year Globes'])\n",
    "print(numberOfYesActor)\n",
    "print(numberOfNoActor)\n",
    "data = [{'Yes': testdf[testdf['Won both']=='Yes'].count()['Won both'],'No': (testdf.count()['Film year Globes']) - numberOfYesActor}]\n",
    "df = pd.DataFrame(data)\n",
    "df\n",
    "df.plot.bar().set_xlabel(\"Won a Golden Globe and an Oscar          Only won a Golden Globe\")\n"
   ]
  },
  {
   "cell_type": "code",
   "execution_count": 168,
   "metadata": {},
   "outputs": [
    {
     "name": "stdout",
     "output_type": "stream",
     "text": [
      "77\n",
      "30\n",
      "47\n"
     ]
    },
    {
     "data": {
      "text/plain": [
       "Text(0.5, 0, 'Won a Golden Globe and an Oscar          Only won a Golden Globe')"
      ]
     },
     "execution_count": 168,
     "metadata": {},
     "output_type": "execute_result"
    },
    {
     "data": {
      "image/png": "[encoded data removed]",
      "text/plain": [
       "<Figure size 432x288 with 1 Axes>"
      ]
     },
     "metadata": {
      "needs_background": "light"
     },
     "output_type": "display_data"
    }
   ],
   "source": [
    "#We will compare the award ceremony results by category.\n",
    "#Globes vs Oscars comparison: Director\n",
    "\n",
    "#We create a new set.\n",
    "globesDirectorSet = {'Film year Globes': globes['year_film'], 'Award year Globes': globes['year_award'],\n",
    "                  'Category': globes['category'], 'Name Globes': globes['nominee'], 'Film Globes': globes['film'],\n",
    "                  'win Globes': globes['win']}\n",
    "#Based on the newly created set, we create a new dataframe.\n",
    "globesDirector = pd.DataFrame(globesDirectorSet)\n",
    "#In the new dataframe, we only use the rows, where the category is 'DIRECTOR'\n",
    "globesDirector = globesDirector[globesDirector['Category']==\"DIRECTOR\"]\n",
    "\n",
    "#Here we do the same thing with the Oscars results\n",
    "\n",
    "#We create a new set.\n",
    "oscarsDirectorSet = {'Film year Oscars': oscars['year_film'], 'Award year Oscars': oscars['year_ceremony'],\n",
    "                  'Category': oscars['category'], 'Name Oscars': oscars['name'], 'Film Oscars': oscars['film'],\n",
    "                  'win Oscars': oscars['winner']}\n",
    "#Based on the newly created set, we create a new dataframe.\n",
    "oscarsDirector = pd.DataFrame(oscarsDirectorSet)\n",
    "#In the new dataframe, we only use the rows, where the category is 'DIRECTOR'\n",
    "oscarsDirector = oscarsDirector[oscarsDirector['Category']==\"DIRECTOR\"]\n",
    "#Created copies of the datasets to not mess up any already made work, but now I'm too scared to change anything.\n",
    "testdf1 = oscarsDirector.copy()\n",
    "testdf = globesDirector.copy()\n",
    "#testdf2 is a dataframe in which we merged the dataframe copies we made before\n",
    "testdf2=testdf.merge(testdf1,left_on=\"Film year Globes\",right_on=\"Film year Oscars\")\n",
    "#Here we made a new column 'Won both', in which it says 'Yes' if the actor has won both awards for this particular movie, or 'NaN' if (s)he hasn't\n",
    "testdf.loc[(testdf2['Award year Globes'].values == testdf2['Award year Oscars'].values) & (testdf2['Name Globes'].values == testdf2['Name Oscars'].values) & (testdf2['Film Globes'].values == testdf2['Film Oscars'].values), 'Won both'] = 'Yes'\n",
    "\n",
    "testdf.loc[testdf['Won both'] == 'Yes']\n",
    "numberOfYesActor = testdf[testdf['Won both']=='Yes'].count()['Won both']\n",
    "numberOfNoActor = (testdf.count()['Film year Globes']) - numberOfYesActor\n",
    "print(testdf.count()['Film year Globes'])\n",
    "print(numberOfYesActor)\n",
    "print(numberOfNoActor)\n",
    "data = [{'Yes': testdf[testdf['Won both']=='Yes'].count()['Won both'],'No': (testdf.count()['Film year Globes']) - numberOfYesActor}]\n",
    "df = pd.DataFrame(data)\n",
    "df\n",
    "df.plot.bar().set_xlabel(\"Won a Golden Globe and an Oscar          Only won a Golden Globe\")\n"
   ]
  },
  {
   "cell_type": "code",
   "execution_count": 169,
   "metadata": {
    "scrolled": false
   },
   "outputs": [
    {
     "name": "stdout",
     "output_type": "stream",
     "text": [
      "150\n",
      "37\n",
      "113\n"
     ]
    },
    {
     "data": {
      "text/plain": [
       "Text(0.5, 0, 'Won a Golden Globe and an Oscar          Only won a Golden Globe')"
      ]
     },
     "execution_count": 169,
     "metadata": {},
     "output_type": "execute_result"
    },
    {
     "data": {
      "image/png": "[encoded data removed]",
      "text/plain": [
       "<Figure size 432x288 with 1 Axes>"
      ]
     },
     "metadata": {
      "needs_background": "light"
     },
     "output_type": "display_data"
    }
   ],
   "source": [
    "#We will compare the award ceremony results by category.\n",
    "#Globes vs Oscars comparison: Picture\n",
    "\n",
    "#We create a new set.\n",
    "globesPictureSet = {'Film year Globes': globes['year_film'], 'Award year Globes': globes['year_award'],\n",
    "                  'Category': globes['category'], 'Film Globes': globes['nominee'],\n",
    "                  'win Globes': globes['win']}\n",
    "#Based on the newly created set, we create a new dataframe.\n",
    "globesPicture = pd.DataFrame(globesPictureSet)\n",
    "#In the new dataframe, we only use the rows, where the category is 'PICTURE'\n",
    "globesPicture = globesPicture[globesPicture['Category']==\"PICTURE\"]\n",
    "\n",
    "#Here we do the same thing with the Oscars results\n",
    "\n",
    "#We create a new set.\n",
    "oscarsPictureSet = {'Film year Oscars': oscars['year_film'], 'Award year Oscars': oscars['year_ceremony'],\n",
    "                  'Category': oscars['category'],  'Film Oscars': oscars['film'],\n",
    "                  'win Oscars': oscars['winner']}\n",
    "#Based on the newly created set, we create a new dataframe.\n",
    "oscarsPicture = pd.DataFrame(oscarsPictureSet)\n",
    "#In the new dataframe, we only use the rows, where the category is 'PICTURE'\n",
    "oscarsPicture = oscarsPicture[oscarsPicture['Category']==\"PICTURE\"]\n",
    "#Created copies of the datasets to not mess up any already made work, but now I'm too scared to change anything.\n",
    "testdf1 = oscarsPicture.copy()\n",
    "testdf = globesPicture.copy()\n",
    "testdf = testdf.drop(testdf.index[0])\n",
    "#testdf2 is a dataframe in which we merged the dataframe copies we made before\n",
    "testdf2=pd.merge(testdf,testdf1,left_on=\"Film year Globes\",right_on=\"Film year Oscars\")\n",
    "#Here we made a new column 'Won both', in which it says 'Yes' if the film had won both awards or 'NaN' if it hadn't.\n",
    "testdf.loc[(testdf2['Award year Globes'].values == testdf2['Award year Oscars'].values)  & (testdf2['Film Globes'].values == testdf2['Film Oscars'].values), 'Won both'] = 'Yes'\n",
    "\n",
    "testdf.loc[testdf['Won both'] == 'Yes']\n",
    "\n",
    "numberOfYesActor = testdf[testdf['Won both']=='Yes'].count()['Won both']\n",
    "numberOfNoActor = (testdf.count()['Film year Globes']) - numberOfYesActor\n",
    "print(testdf.count()['Film year Globes'])\n",
    "print(numberOfYesActor)\n",
    "print(numberOfNoActor)\n",
    "data = [{'Yes': testdf[testdf['Won both']=='Yes'].count()['Won both'],'No': (testdf.count()['Film year Globes']) - numberOfYesActor}]\n",
    "df = pd.DataFrame(data)\n",
    "df\n",
    "df.plot.bar().set_xlabel(\"Won a Golden Globe and an Oscar          Only won a Golden Globe\")"
   ]
  },
  {
   "cell_type": "code",
   "execution_count": null,
   "metadata": {},
   "outputs": [],
   "source": [
    "\n"
   ]
  },
  {
   "cell_type": "code",
   "execution_count": null,
   "metadata": {},
   "outputs": [],
   "source": []
  },
  {
   "cell_type": "code",
   "execution_count": null,
   "metadata": {},
   "outputs": [],
   "source": []
  },
  {
   "cell_type": "code",
   "execution_count": null,
   "metadata": {},
   "outputs": [],
   "source": []
  }
 ],
 "metadata": {
  "kernelspec": {
   "display_name": "Python 3",
   "language": "python",
   "name": "python3"
  },
  "language_info": {
   "codemirror_mode": {
    "name": "ipython",
    "version": 3
   },
   "file_extension": ".py",
   "mimetype": "text/x-python",
   "name": "python",
   "nbconvert_exporter": "python",
   "pygments_lexer": "ipython3",
   "version": "3.8.3"
  }
 },
 "nbformat": 4,
 "nbformat_minor": 4
}
